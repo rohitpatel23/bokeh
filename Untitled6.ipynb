{
 "cells": [
  {
   "cell_type": "code",
   "execution_count": 4,
   "id": "499c26e6-6997-4267-94d2-c96f74ebcd7a",
   "metadata": {},
   "outputs": [
    {
     "data": {
      "text/plain": [
       "'Q1. How can you create a Bokeh plot using Python code?'"
      ]
     },
     "execution_count": 4,
     "metadata": {},
     "output_type": "execute_result"
    }
   ],
   "source": [
    "'''Q1. How can you create a Bokeh plot using Python code?'''"
   ]
  },
  {
   "cell_type": "code",
   "execution_count": 2,
   "id": "7b2533fa-849b-4b44-a871-13c662dafd54",
   "metadata": {},
   "outputs": [],
   "source": [
    "from bokeh.plotting import figure ,output_file , show\n",
    "from bokeh.sampledata.iris import flowers\n",
    "\n",
    "output_file('test.html')\n",
    "\n",
    "p = figure(title = \"test flower\")\n",
    "p.xaxis.axis_label = \"paltel lenght\"\n",
    "p.yaxis.axis_label = \"paltel widhth\"\n",
    "p.circle(flowers['petal_length'] , flowers['petal_width'])\n",
    "show(p)"
   ]
  },
  {
   "cell_type": "code",
   "execution_count": 3,
   "id": "638b579f-1b5a-4a5f-8718-35aabb679f29",
   "metadata": {},
   "outputs": [
    {
     "data": {
      "text/plain": [
       "'Q2. What are glyphs in Bokeh, and how can you add them to a Bokeh plot? Explain with an example.'"
      ]
     },
     "execution_count": 3,
     "metadata": {},
     "output_type": "execute_result"
    }
   ],
   "source": [
    "'''Q2. What are glyphs in Bokeh, and how can you add them to a Bokeh plot? Explain with an example.'''"
   ]
  },
  {
   "cell_type": "code",
   "execution_count": 6,
   "id": "708060ea-91d8-43ad-a1d7-d63e06a1e95d",
   "metadata": {},
   "outputs": [
    {
     "data": {
      "text/plain": [
       "\"In Bokeh, glyphs are visual shapes or markers that can be added to a plot to represent data points. Examples of glyphs include circles, squares, lines, and text.\\n\\nTo add glyphs to a Bokeh plot, you can use the figure method corresponding to the glyph you want to add. Each method takes in the data to be plotted, as well as any additional arguments for customizing the glyph's appearance.\""
      ]
     },
     "execution_count": 6,
     "metadata": {},
     "output_type": "execute_result"
    }
   ],
   "source": [
    "'''In Bokeh, glyphs are visual shapes or markers that can be added to a plot to represent data points. Examples of glyphs include circles, squares, lines, and text.\n",
    "\n",
    "To add glyphs to a Bokeh plot, you can use the figure method corresponding to the glyph you want to add. Each method takes in the data to be plotted, as well as any additional arguments for customizing the glyph's appearance.'''\n"
   ]
  },
  {
   "cell_type": "code",
   "execution_count": 7,
   "id": "ebb5b705-c8b0-4820-8e17-955bc1a4a453",
   "metadata": {},
   "outputs": [
    {
     "data": {
      "text/plain": [
       "'Q3. How can you customize the appearance of a Bokeh plot, including the axes, title, and legend?'"
      ]
     },
     "execution_count": 7,
     "metadata": {},
     "output_type": "execute_result"
    }
   ],
   "source": [
    "'''Q3. How can you customize the appearance of a Bokeh plot, including the axes, title, and legend?'''"
   ]
  },
  {
   "cell_type": "code",
   "execution_count": 8,
   "id": "1a797ee7-4b55-49b9-bb54-2b062c7487f9",
   "metadata": {},
   "outputs": [
    {
     "data": {
      "text/plain": [
       "'Bokeh allows for extensive customization of plot appearance, including the axes, title, and legend. Here are some common ways to customize a Bokeh plot:\\n\\nSetting plot properties: You can set plot properties such as the plot title, plot width and height, background color, and other layout-related properties using the title, plot_width, plot_height, and background_fill_color attributes of the figure object.\\n\\nCustomizing axes: You can customize the axes of a plot by setting properties such as the axis label, font size, tick labels, and range using the xaxis, yaxis, axis_label, axis_label_text_font_size, axis_label_standoff, and axis_label_text_color attributes of the figure object.\\n\\nAdding a legend: You can add a legend to a plot using the legend attribute of the figure object. This attribute takes a list of tuples, where each tuple specifies the name and glyph associated with each data series in the plot.\\n\\nCustomizing the legend: You can customize the appearance of the legend using the label_text_font_size, label_text_color, and location attributes of the legend object.'"
      ]
     },
     "execution_count": 8,
     "metadata": {},
     "output_type": "execute_result"
    }
   ],
   "source": [
    "'''Bokeh allows for extensive customization of plot appearance, including the axes, title, and legend. Here are some common ways to customize a Bokeh plot:\n",
    "\n",
    "Setting plot properties: You can set plot properties such as the plot title, plot width and height, background color, and other layout-related properties using the title, plot_width, plot_height, and background_fill_color attributes of the figure object.\n",
    "\n",
    "Customizing axes: You can customize the axes of a plot by setting properties such as the axis label, font size, tick labels, and range using the xaxis, yaxis, axis_label, axis_label_text_font_size, axis_label_standoff, and axis_label_text_color attributes of the figure object.\n",
    "\n",
    "Adding a legend: You can add a legend to a plot using the legend attribute of the figure object. This attribute takes a list of tuples, where each tuple specifies the name and glyph associated with each data series in the plot.\n",
    "\n",
    "Customizing the legend: You can customize the appearance of the legend using the label_text_font_size, label_text_color, and location attributes of the legend object.'''"
   ]
  },
  {
   "cell_type": "code",
   "execution_count": 9,
   "id": "b63d2562-8cbc-4623-9709-cc7100162f8e",
   "metadata": {},
   "outputs": [
    {
     "data": {
      "text/plain": [
       "'Q4. What is a Bokeh server, and how can you use it to create interactive plots that can be updated in\\nreal time?'"
      ]
     },
     "execution_count": 9,
     "metadata": {},
     "output_type": "execute_result"
    }
   ],
   "source": [
    "'''Q4. What is a Bokeh server, and how can you use it to create interactive plots that can be updated in\n",
    "real time?'''"
   ]
  },
  {
   "cell_type": "code",
   "execution_count": 10,
   "id": "4eef93f7-5664-473d-bb13-1e73cb1c31c8",
   "metadata": {},
   "outputs": [
    {
     "data": {
      "text/plain": [
       "'Bokeh server is a powerful feature of Bokeh that allows you to create interactive plots that can be updated in real time. It is a Python process that runs in the background and can communicate with web browsers to serve dynamic content.'"
      ]
     },
     "execution_count": 10,
     "metadata": {},
     "output_type": "execute_result"
    }
   ],
   "source": [
    "'''Bokeh server is a powerful feature of Bokeh that allows you to create interactive plots that can be updated in real time. It is a Python process that runs in the background and can communicate with web browsers to serve dynamic content.'''"
   ]
  },
  {
   "cell_type": "code",
   "execution_count": 11,
   "id": "7bfc281e-b109-4792-9dc8-bfced8be4234",
   "metadata": {},
   "outputs": [
    {
     "data": {
      "text/plain": [
       "'Q5. How can you embed a Bokeh plot into a web page or dashboard using Flask or Django?'"
      ]
     },
     "execution_count": 11,
     "metadata": {},
     "output_type": "execute_result"
    }
   ],
   "source": [
    "'''Q5. How can you embed a Bokeh plot into a web page or dashboard using Flask or Django?'''"
   ]
  },
  {
   "cell_type": "code",
   "execution_count": 13,
   "id": "3f0c8de1-a5e2-46fe-9534-b3ba153919c5",
   "metadata": {},
   "outputs": [
    {
     "data": {
      "text/plain": [
       "\"In this example, the index() function creates a Bokeh scatter plot of the Iris dataset and generates the HTML code for the plot using the components() function. The render_template() function is used to render the index.html template and pass the HTML code to it.\\n\\nDjango\\nCreate a new Django app: First, create a new Django app using the startapp command.\\n\\nDefine the view to render the Bokeh plot: Define a view in the Django app that generates the Bokeh plot.\\n\\nCreate a Bokeh document and add the plot: Create a new Bokeh document using the curdoc() function and add the Bokeh plot to it.\\n\\nGenerate the HTML code for the Bokeh plot: Use the components() function from Bokeh to generate the HTML code for the Bokeh plot.\\n\\nRender the template and pass the HTML code to it: Finally, render a template using Django's render() function, and pass the HTML code generated by Bokeh to the template.\\n\\nHere's an example of how to embed a Bokeh plot into a Django app\""
      ]
     },
     "execution_count": 13,
     "metadata": {},
     "output_type": "execute_result"
    }
   ],
   "source": [
    "'''Both Flask and Django are popular web frameworks in Python that can be used to create web applications and dashboards. Here's how you can embed a Bokeh plot into a web page or dashboard using Flask or Django:\n",
    "\n",
    "Flask\n",
    "Create a Flask app: First, create a new Flask app by importing the Flask class and creating a new instance of it.\n",
    "\n",
    "Define the route and function to render the Bokeh plot: Define a route in the Flask app and create a function that generates the Bokeh plot.\n",
    "\n",
    "Create a Bokeh document and add the plot: Create a new Bokeh document using the curdoc() function and add the Bokeh plot to it.\n",
    "\n",
    "Generate the HTML code for the Bokeh plot: Use the components() function from Bokeh to generate the HTML code for the Bokeh plot.\n",
    "\n",
    "Render the template and pass the HTML code to it: Finally, render a template using Flask's render_template() function, and pass the HTML code generated by Bokeh to the template.\n",
    "\n",
    "Here's an example of how to embed a Bokeh plot into a Flask app:'''\n",
    "\n",
    "\n",
    "\n",
    "'''In this example, the index() function creates a Bokeh scatter plot of the Iris dataset and generates the HTML code for the plot using the components() function. The render_template() function is used to render the index.html template and pass the HTML code to it.\n",
    "\n",
    "Django\n",
    "Create a new Django app: First, create a new Django app using the startapp command.\n",
    "\n",
    "Define the view to render the Bokeh plot: Define a view in the Django app that generates the Bokeh plot.\n",
    "\n",
    "Create a Bokeh document and add the plot: Create a new Bokeh document using the curdoc() function and add the Bokeh plot to it.\n",
    "\n",
    "Generate the HTML code for the Bokeh plot: Use the components() function from Bokeh to generate the HTML code for the Bokeh plot.\n",
    "\n",
    "Render the template and pass the HTML code to it: Finally, render a template using Django's render() function, and pass the HTML code generated by Bokeh to the template.\n",
    "\n",
    "Here's an example of how to embed a Bokeh plot into a Django app'''\n",
    "\n",
    "\n",
    "\n",
    "\n",
    "\n",
    "\n",
    "\n"
   ]
  },
  {
   "cell_type": "code",
   "execution_count": null,
   "id": "9b8c1e7f-a513-4944-b519-2abb15158dd3",
   "metadata": {},
   "outputs": [],
   "source": []
  }
 ],
 "metadata": {
  "kernelspec": {
   "display_name": "Python 3 (ipykernel)",
   "language": "python",
   "name": "python3"
  },
  "language_info": {
   "codemirror_mode": {
    "name": "ipython",
    "version": 3
   },
   "file_extension": ".py",
   "mimetype": "text/x-python",
   "name": "python",
   "nbconvert_exporter": "python",
   "pygments_lexer": "ipython3",
   "version": "3.10.8"
  }
 },
 "nbformat": 4,
 "nbformat_minor": 5
}
